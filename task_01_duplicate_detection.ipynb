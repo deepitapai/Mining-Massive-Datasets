{
 "cells": [
  {
   "cell_type": "code",
   "execution_count": 1,
   "metadata": {},
   "outputs": [],
   "source": [
    "import numpy as np\n",
    "import scipy.sparse as sp\n",
    "import re\n",
    "import json\n",
    "from itertools import combinations\n",
    "import time\n",
    "\n",
    "from scipy.sparse import linalg as spl\n",
    "from collections import defaultdict\n",
    "from IPython.display import Markdown, display\n",
    "\n",
    "import matplotlib.pyplot as plt\n",
    "import time as t\n",
    "\n",
    "%matplotlib inline"
   ]
  },
  {
   "cell_type": "code",
   "execution_count": 2,
   "metadata": {},
   "outputs": [],
   "source": [
    "words = np.load('top_25k_words.npy')\n",
    "bow_subset = sp.load_npz('bow_subset.npz')\n",
    "N = bow_subset.shape[0]\n",
    "\n",
    "with open('reviews_subset.json' , 'r') as f:\n",
    "    reviews = json.load(f)"
   ]
  },
  {
   "cell_type": "code",
   "execution_count": 3,
   "metadata": {},
   "outputs": [],
   "source": [
    "def cosine_distance(X, i, j):\n",
    "\n",
    "    i_norm = np.math.sqrt(np.dot(X[:,i], X[:,i]))\n",
    "    j_norm = np.math.sqrt(np.dot(X[:,j], X[:,j]))\n",
    "    \n",
    "    ij_dot = X[:,i].dot(X[:,j].T)\n",
    "    \n",
    "    return 1-ij_dot/(i_norm*j_norm)"
   ]
  },
  {
   "cell_type": "code",
   "execution_count": 4,
   "metadata": {},
   "outputs": [],
   "source": [
    "def LSH(X, b=8, r=32, d=0.3):\n",
    "    \n",
    "    np.random.seed(158)\n",
    "    n_candidates = 0\n",
    "    duplicates = set()\n",
    "    \n",
    "    def compare(a):\n",
    "        hash1 = hash(tuple(a))\n",
    "        return (hash1)\n",
    "    \n",
    "    band=0\n",
    "    \n",
    "    #generating random hyperplane and creating matrix of -1,1\n",
    "    V = []\n",
    "    V = np.array(V)\n",
    "    V = np.random.normal(size = [b*r,bow_subset.shape[1]])\n",
    "    random_proj = bow_subset.dot(V.T)\n",
    "    \n",
    "    random_proj[random_proj<0] = -1\n",
    "    random_proj[random_proj>=0] = 1\n",
    "    \n",
    "    #generating hash table with bucket name = band number_hash value\n",
    "    random_proj1 = random_proj.T    \n",
    "    hash_table=dict()\n",
    "    \n",
    "    for k in range(0,b*r,r):\n",
    "        band +=1\n",
    "        for i in range(random_proj1.shape[1]):\n",
    "            hash1 = compare(random_proj1[k:k+r,i])\n",
    "            hash2 = \"band_\"+str(band)+\"_\"+str(hash1)\n",
    "            if hash2 not in hash_table:\n",
    "                hash_table[hash2]=[i]\n",
    "            else:\n",
    "                hash_table[hash2].append(i)\n",
    "    result1 = {}           \n",
    "    \n",
    "    #{k:v for (k,v) in hash_table.items() if len(v) > 1}\n",
    "    for (k,v) in hash_table.items():\n",
    "        if len(v) > 1:\n",
    "            n_candidates +=(len(list(combinations(v, 2))))\n",
    "            result1[k]=v\n",
    "    \n",
    "    random_proj2 = random_proj1\n",
    "    random_proj2[random_proj2 < 0] = 0\n",
    "    \n",
    "    \n",
    "    #exact duplicates with cosine distance\n",
    "    result = {}\n",
    "    for key,value in result1.items():\n",
    "        if value not in result.values():\n",
    "            result[key] = value\n",
    "    X = X.T    \n",
    "    for (k,values) in result.items():\n",
    "        ab = (list(combinations(values, 2)))\n",
    "        for x in ab:\n",
    "            dist1 = cosine_distance(random_proj2,x[0],x[1])\n",
    "            if dist1<d:\n",
    "                duplicates.add((x[0],x[1],dist1))\n",
    "    \n",
    "    return duplicates, n_candidates"
   ]
  },
  {
   "cell_type": "code",
   "execution_count": 5,
   "metadata": {},
   "outputs": [],
   "source": [
    "duplicates, n_candidates = LSH(bow_subset, b=6, r=28, d=0.2)"
   ]
  },
  {
   "cell_type": "code",
   "execution_count": 6,
   "metadata": {},
   "outputs": [
    {
     "name": "stdout",
     "output_type": "stream",
     "text": [
      "We detected 861 candidates.\n"
     ]
    }
   ],
   "source": [
    " print('We detected {} candidates.'.format(n_candidates))"
   ]
  },
  {
   "cell_type": "code",
   "execution_count": 7,
   "metadata": {},
   "outputs": [
    {
     "data": {
      "text/plain": [
       "{(1780, 58112, 0.1702443178597306),\n",
       " (1809, 13244, 0.0),\n",
       " (6600, 93310, 0.0),\n",
       " (17779, 72702, 0.0),\n",
       " (29327, 67068, 0.18801049081622256),\n",
       " (32066, 71726, 0.0),\n",
       " (35163, 82597, -2.2204460492503131e-16),\n",
       " (36118, 46204, 0.19446164037896352),\n",
       " (42795, 95179, -2.2204460492503131e-16),\n",
       " (47940, 65607, 2.2204460492503131e-16),\n",
       " (64525, 70002, 0.15394031329695645)}"
      ]
     },
     "execution_count": 7,
     "metadata": {},
     "output_type": "execute_result"
    }
   ],
   "source": [
    "duplicates"
   ]
  },
  {
   "cell_type": "code",
   "execution_count": 8,
   "metadata": {},
   "outputs": [],
   "source": [
    "similar_review_pairs = []\n",
    "for ix1, ix2, sim in duplicates:\n",
    "    rev1 = reviews[ix1]\n",
    "    rev2 = reviews[ix2]\n",
    "    similar_review_pairs.append((rev1, rev2, sim))"
   ]
  },
  {
   "cell_type": "code",
   "execution_count": 9,
   "metadata": {},
   "outputs": [],
   "source": [
    "pattern = re.compile('(\\S+|\\n)')\n",
    "pattern_punctuation = re.compile('^\\W+|\\W+$')\n",
    "\n",
    "def highlight_vocabulary(text, vocabulary):\n",
    "    split = re.findall(r\"[\\w']+\", text)\n",
    "    in_vocabulary = [pattern.sub(lambda m: pattern_punctuation.sub('', m.group()), str.lower(x)) in words for x in split]\n",
    "    highlighted_words = [\"**{}**\".format(x) if in_vocabulary[ix] else x for ix,x in enumerate(split) ]\n",
    "    highlighted_text = \" \".join(highlighted_words)\n",
    "    return highlighted_text\n",
    "\n",
    "def printmd(string):\n",
    "    display(Markdown(string))"
   ]
  },
  {
   "cell_type": "code",
   "execution_count": 10,
   "metadata": {},
   "outputs": [
    {
     "data": {
      "text/markdown": [
       "**Finally** The **Habit** is in **Las** **Vegas** **Worth** the **wait** and **yes** the **hype** is **real** about this **place** I **love** the **burgers** and the **onion** **rings** **Nothing** here is **greasy** and the **quality** of **food** **shows** as **well** I **usually** **get** the **double** **char** which is **similar** to a **double** **double** at in **n** out The **food** is **made** to **order** and the **staff** is on **top** of **things** **Even** **though** this is a **soft** **opening** **today** **things** **seem** very **organized** **Good** **food** and **great** **service** If your **looking** for a **burger** **place** that **serves** **good** **food** this is your **place** I **also** **love** the **variety** **Salads** **tri** **tip** **chicken** and **much** more More **locations** are **coming** to **Las** **Vegas** The **next** **location** will be **Blue** **Diamond** and **Decatur** **Opening** **sometime** at the **beginning** of 2016 **10** **15** **locations** in the **future**"
      ],
      "text/plain": [
       "<IPython.core.display.Markdown object>"
      ]
     },
     "metadata": {},
     "output_type": "display_data"
    },
    {
     "name": "stdout",
     "output_type": "stream",
     "text": [
      "\n",
      "vs.\n",
      "\n"
     ]
    },
    {
     "data": {
      "text/markdown": [
       "We **heard** about this **place** **thanks** to **Triple** D on **Food** **Network** and we **took** the **bus** to **get** to it We **shared** the **crab** and **artichoke** **dip** to **start** then I had **shrimp** **po'boy** **followed** by a **chocolate** **dessert** Their **specialty** **dessert** **seems** to be **sweet** **potato** **pecan** **pie** **Great** **food** **good** **wine** and **service** This **Cajun** **creole** **place** is **really** **good** I **know** a **lot** of **visitors** to **Vegas** **never** **venture** **beyond** the **strip** but you're **missing** out on a **great** **spot** here if you're into **Cajun** **food** It was **pretty** **busy** the **night** we **went** and it was **definitely** **worth** the **wait**"
      ],
      "text/plain": [
       "<IPython.core.display.Markdown object>"
      ]
     },
     "metadata": {},
     "output_type": "display_data"
    },
    {
     "name": "stdout",
     "output_type": "stream",
     "text": [
      "===\n",
      "Same business: False\n",
      "Same user: False\n",
      "Cosine distance 0.1880\n",
      "\n",
      "#######\n",
      "\n"
     ]
    },
    {
     "data": {
      "text/markdown": [
       "**TERRIBLE** **SERVICE** **Waited** for **10** **minutes** for **someone** to **even** **come** to the **table** When we **left** **people** who were **seated** after **us** had been **served**"
      ],
      "text/plain": [
       "<IPython.core.display.Markdown object>"
      ]
     },
     "metadata": {},
     "output_type": "display_data"
    },
    {
     "name": "stdout",
     "output_type": "stream",
     "text": [
      "\n",
      "vs.\n",
      "\n"
     ]
    },
    {
     "data": {
      "text/markdown": [
       "We didn't **even** **get** to **try** the **food** We were **seated** and **sat** there for **30** **minutes** to be **waited** on We **watched** **others** **around** **us** being **waited** on **even** **people** **seated** AFTER we were but no **one** **even** **stopped** to **ask** if we had been **helped** After **30** **minutes** of that we **got** up and **left** No **15** **sundae** is **worth** **crappy** **service**"
      ],
      "text/plain": [
       "<IPython.core.display.Markdown object>"
      ]
     },
     "metadata": {},
     "output_type": "display_data"
    },
    {
     "name": "stdout",
     "output_type": "stream",
     "text": [
      "===\n",
      "Same business: False\n",
      "Same user: False\n",
      "Cosine distance 0.1945\n",
      "\n",
      "#######\n",
      "\n"
     ]
    },
    {
     "data": {
      "text/markdown": [
       "**Good** **Service** **Good** **food**"
      ],
      "text/plain": [
       "<IPython.core.display.Markdown object>"
      ]
     },
     "metadata": {},
     "output_type": "display_data"
    },
    {
     "name": "stdout",
     "output_type": "stream",
     "text": [
      "\n",
      "vs.\n",
      "\n"
     ]
    },
    {
     "data": {
      "text/markdown": [
       "**Service** is **good** very **friendly** and **good** **food** who **could** **want** more nagar it was very **good**"
      ],
      "text/plain": [
       "<IPython.core.display.Markdown object>"
      ]
     },
     "metadata": {},
     "output_type": "display_data"
    },
    {
     "name": "stdout",
     "output_type": "stream",
     "text": [
      "===\n",
      "Same business: False\n",
      "Same user: False\n",
      "Cosine distance 0.1539\n",
      "\n",
      "#######\n",
      "\n"
     ]
    },
    {
     "data": {
      "text/markdown": [
       "very **good** **food** **good** **service** the **part** we didn't **like** is being **reminded** to **include** the **tip** when **paying** the **bill**"
      ],
      "text/plain": [
       "<IPython.core.display.Markdown object>"
      ]
     },
     "metadata": {},
     "output_type": "display_data"
    },
    {
     "name": "stdout",
     "output_type": "stream",
     "text": [
      "\n",
      "vs.\n",
      "\n"
     ]
    },
    {
     "data": {
      "text/markdown": [
       "**Food** is veryyyy **good** **Customer** **service** is not so **good** But it's **worth** if for the **food**"
      ],
      "text/plain": [
       "<IPython.core.display.Markdown object>"
      ]
     },
     "metadata": {},
     "output_type": "display_data"
    },
    {
     "name": "stdout",
     "output_type": "stream",
     "text": [
      "===\n",
      "Same business: False\n",
      "Same user: False\n",
      "Cosine distance 0.1702\n",
      "\n",
      "#######\n",
      "\n"
     ]
    }
   ],
   "source": [
    "for r1, r2, sim in similar_review_pairs:\n",
    "    if not np.isclose(sim, 0.0):\n",
    "        printmd(highlight_vocabulary(r1['text'], words))\n",
    "        print(\"\")\n",
    "        print(\"vs.\")\n",
    "        print(\"\")\n",
    "        printmd(highlight_vocabulary(r2['text'], words))\n",
    "        print(\"===\")\n",
    "        print(\"Same business: {}\".format(r1['business_id'] == r2['business_id']))\n",
    "        print(\"Same user: {}\".format(r1['user_id'] == r2['user_id']))\n",
    "        print(\"Cosine distance {:.4f}\".format(sim))\n",
    "        print(\"\")    \n",
    "        print(\"#######\")\n",
    "        print(\"\")"
   ]
  },
  {
   "cell_type": "code",
   "execution_count": 11,
   "metadata": {},
   "outputs": [],
   "source": [
    "# naively compute the duplicates using a double for loop\n",
    "def naive_duplicates(X, d = 0.2):\n",
    "    \n",
    "    X = X.toarray()\n",
    "    N = X.shape[0]\n",
    "    duplicates = set()\n",
    "    for i in range(0, N):\n",
    "        for j in range(i+1, N):\n",
    "            d_ij = cosine_distance(X.T, j, i)\n",
    "            if d_ij < d and i != j:\n",
    "                duplicates.add((i, j, d_ij))\n",
    "    return duplicates"
   ]
  },
  {
   "cell_type": "code",
   "execution_count": 12,
   "metadata": {},
   "outputs": [],
   "source": [
    " def runtime_comparison():\n",
    "    \n",
    "    trace = []\n",
    "    trace.append([0, 0, 0])\n",
    "    for n in np.arange(250, 2501, 250):\n",
    "        print('Running comparison for {} reviews.'.format(n))\n",
    "        \n",
    "        startLSH = t.clock()\n",
    "        LSH(bow_subset[0:n, :], b=5, r=25, d=0.2)\n",
    "        endLSH = t.clock()\n",
    "        LSHtime = endLSH-startLSH\n",
    "        \n",
    "        startNaive = t.clock()\n",
    "        naive_duplicates(bow_subset[0:n, :], d = 0.2)\n",
    "        endNaive = t.clock()\n",
    "        naiveTime = endNaive-startNaive\n",
    "        \n",
    "        trace.append([n, LSHtime, naiveTime])\n",
    "        \n",
    "    return trace"
   ]
  },
  {
   "cell_type": "code",
   "execution_count": 13,
   "metadata": {
    "scrolled": false
   },
   "outputs": [
    {
     "name": "stdout",
     "output_type": "stream",
     "text": [
      "Running comparison for 250 reviews.\n",
      "Running comparison for 500 reviews.\n",
      "Running comparison for 750 reviews.\n",
      "Running comparison for 1000 reviews.\n",
      "Running comparison for 1250 reviews.\n",
      "Running comparison for 1500 reviews.\n",
      "Running comparison for 1750 reviews.\n",
      "Running comparison for 2000 reviews.\n",
      "Running comparison for 2250 reviews.\n",
      "Running comparison for 2500 reviews.\n"
     ]
    }
   ],
   "source": [
    "trace = runtime_comparison()"
   ]
  },
  {
   "cell_type": "code",
   "execution_count": 14,
   "metadata": {},
   "outputs": [
    {
     "data": {
      "image/png": "[encoded data removed]",
      "text/plain": [
       "<matplotlib.figure.Figure at 0x20d08d27438>"
      ]
     },
     "metadata": {},
     "output_type": "display_data"
    }
   ],
   "source": [
    "trace = np.array(trace)\n",
    "num_reviews = trace[:, 0]\n",
    "lshtime = trace[:, 1]\n",
    "naivetime = trace[:, 2]\n",
    "\n",
    "naive = plt.plot(num_reviews, naivetime, 'r')\n",
    "LSH = plt.plot(num_reviews, lshtime, 'b')\n",
    "plt.legend(['Naive', 'LSH'], bbox_to_anchor=(1, 1))\n",
    "\n",
    "plt.xlabel('Number of reviews processed')\n",
    "plt.ylabel('Time in seconds')\n",
    "plt.title('Runtime comparison')\n",
    "plt.show()"
   ]
  }
 ],
 "metadata": {
  "kernelspec": {
   "display_name": "Python 3",
   "language": "python",
   "name": "python3"
  },
  "language_info": {
   "codemirror_mode": {
    "name": "ipython",
    "version": 3
   },
   "file_extension": ".py",
   "mimetype": "text/x-python",
   "name": "python",
   "nbconvert_exporter": "python",
   "pygments_lexer": "ipython3",
   "version": "3.5.0"
  }
 },
 "nbformat": 4,
 "nbformat_minor": 2
}
